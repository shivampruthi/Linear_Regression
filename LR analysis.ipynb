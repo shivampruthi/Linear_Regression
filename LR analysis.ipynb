{
 "cells": [
  {
   "cell_type": "code",
   "execution_count": 47,
   "id": "61152633",
   "metadata": {},
   "outputs": [],
   "source": [
    "import numpy as np"
   ]
  },
  {
   "cell_type": "code",
   "execution_count": 48,
   "id": "f65590b3",
   "metadata": {},
   "outputs": [
    {
     "data": {
      "text/plain": [
       "(100,)"
      ]
     },
     "execution_count": 48,
     "metadata": {},
     "output_type": "execute_result"
    }
   ],
   "source": [
    "data = np.loadtxt('/Users/shivampruthi/Downloads/0000000000000836/data.csv', delimiter = ',')\n",
    "data\n",
    "data.shape\n",
    "data\n",
    "x = data[:, 0]\n",
    "y = data[:, 1]\n",
    "x.shape\n",
    "y.shape"
   ]
  },
  {
   "cell_type": "code",
   "execution_count": 49,
   "id": "0ec05d7a",
   "metadata": {},
   "outputs": [],
   "source": [
    "from sklearn import model_selection\n",
    "x_train, x_test, y_train, y_test = model_selection.train_test_split(x, y, random_state = 3, test_size = 0.3)"
   ]
  },
  {
   "cell_type": "code",
   "execution_count": 50,
   "id": "43c1b7de",
   "metadata": {},
   "outputs": [],
   "source": [
    "from sklearn.linear_model import LinearRegression\n",
    "alg1 = LinearRegression()"
   ]
  },
  {
   "cell_type": "code",
   "execution_count": 51,
   "id": "8b342951",
   "metadata": {},
   "outputs": [
    {
     "data": {
      "text/html": [
       "<style>#sk-container-id-2 {color: black;}#sk-container-id-2 pre{padding: 0;}#sk-container-id-2 div.sk-toggleable {background-color: white;}#sk-container-id-2 label.sk-toggleable__label {cursor: pointer;display: block;width: 100%;margin-bottom: 0;padding: 0.3em;box-sizing: border-box;text-align: center;}#sk-container-id-2 label.sk-toggleable__label-arrow:before {content: \"▸\";float: left;margin-right: 0.25em;color: #696969;}#sk-container-id-2 label.sk-toggleable__label-arrow:hover:before {color: black;}#sk-container-id-2 div.sk-estimator:hover label.sk-toggleable__label-arrow:before {color: black;}#sk-container-id-2 div.sk-toggleable__content {max-height: 0;max-width: 0;overflow: hidden;text-align: left;background-color: #f0f8ff;}#sk-container-id-2 div.sk-toggleable__content pre {margin: 0.2em;color: black;border-radius: 0.25em;background-color: #f0f8ff;}#sk-container-id-2 input.sk-toggleable__control:checked~div.sk-toggleable__content {max-height: 200px;max-width: 100%;overflow: auto;}#sk-container-id-2 input.sk-toggleable__control:checked~label.sk-toggleable__label-arrow:before {content: \"▾\";}#sk-container-id-2 div.sk-estimator input.sk-toggleable__control:checked~label.sk-toggleable__label {background-color: #d4ebff;}#sk-container-id-2 div.sk-label input.sk-toggleable__control:checked~label.sk-toggleable__label {background-color: #d4ebff;}#sk-container-id-2 input.sk-hidden--visually {border: 0;clip: rect(1px 1px 1px 1px);clip: rect(1px, 1px, 1px, 1px);height: 1px;margin: -1px;overflow: hidden;padding: 0;position: absolute;width: 1px;}#sk-container-id-2 div.sk-estimator {font-family: monospace;background-color: #f0f8ff;border: 1px dotted black;border-radius: 0.25em;box-sizing: border-box;margin-bottom: 0.5em;}#sk-container-id-2 div.sk-estimator:hover {background-color: #d4ebff;}#sk-container-id-2 div.sk-parallel-item::after {content: \"\";width: 100%;border-bottom: 1px solid gray;flex-grow: 1;}#sk-container-id-2 div.sk-label:hover label.sk-toggleable__label {background-color: #d4ebff;}#sk-container-id-2 div.sk-serial::before {content: \"\";position: absolute;border-left: 1px solid gray;box-sizing: border-box;top: 0;bottom: 0;left: 50%;z-index: 0;}#sk-container-id-2 div.sk-serial {display: flex;flex-direction: column;align-items: center;background-color: white;padding-right: 0.2em;padding-left: 0.2em;position: relative;}#sk-container-id-2 div.sk-item {position: relative;z-index: 1;}#sk-container-id-2 div.sk-parallel {display: flex;align-items: stretch;justify-content: center;background-color: white;position: relative;}#sk-container-id-2 div.sk-item::before, #sk-container-id-2 div.sk-parallel-item::before {content: \"\";position: absolute;border-left: 1px solid gray;box-sizing: border-box;top: 0;bottom: 0;left: 50%;z-index: -1;}#sk-container-id-2 div.sk-parallel-item {display: flex;flex-direction: column;z-index: 1;position: relative;background-color: white;}#sk-container-id-2 div.sk-parallel-item:first-child::after {align-self: flex-end;width: 50%;}#sk-container-id-2 div.sk-parallel-item:last-child::after {align-self: flex-start;width: 50%;}#sk-container-id-2 div.sk-parallel-item:only-child::after {width: 0;}#sk-container-id-2 div.sk-dashed-wrapped {border: 1px dashed gray;margin: 0 0.4em 0.5em 0.4em;box-sizing: border-box;padding-bottom: 0.4em;background-color: white;}#sk-container-id-2 div.sk-label label {font-family: monospace;font-weight: bold;display: inline-block;line-height: 1.2em;}#sk-container-id-2 div.sk-label-container {text-align: center;}#sk-container-id-2 div.sk-container {/* jupyter's `normalize.less` sets `[hidden] { display: none; }` but bootstrap.min.css set `[hidden] { display: none !important; }` so we also need the `!important` here to be able to override the default hidden behavior on the sphinx rendered scikit-learn.org. See: https://github.com/scikit-learn/scikit-learn/issues/21755 */display: inline-block !important;position: relative;}#sk-container-id-2 div.sk-text-repr-fallback {display: none;}</style><div id=\"sk-container-id-2\" class=\"sk-top-container\"><div class=\"sk-text-repr-fallback\"><pre>LinearRegression()</pre><b>In a Jupyter environment, please rerun this cell to show the HTML representation or trust the notebook. <br />On GitHub, the HTML representation is unable to render, please try loading this page with nbviewer.org.</b></div><div class=\"sk-container\" hidden><div class=\"sk-item\"><div class=\"sk-estimator sk-toggleable\"><input class=\"sk-toggleable__control sk-hidden--visually\" id=\"sk-estimator-id-2\" type=\"checkbox\" checked><label for=\"sk-estimator-id-2\" class=\"sk-toggleable__label sk-toggleable__label-arrow\">LinearRegression</label><div class=\"sk-toggleable__content\"><pre>LinearRegression()</pre></div></div></div></div></div>"
      ],
      "text/plain": [
       "LinearRegression()"
      ]
     },
     "execution_count": 51,
     "metadata": {},
     "output_type": "execute_result"
    }
   ],
   "source": [
    "x_train_reshape = x_train.reshape(-1, 1)\n",
    "alg1.fit(x_train_reshape, y_train)"
   ]
  },
  {
   "cell_type": "code",
   "execution_count": 52,
   "id": "bbf4e4cd",
   "metadata": {},
   "outputs": [],
   "source": [
    "x_test_reshape = x_test.reshape(-1, 1)\n",
    "y_pred = alg1.predict(x_test_reshape)"
   ]
  },
  {
   "cell_type": "code",
   "execution_count": 53,
   "id": "a29a150a",
   "metadata": {},
   "outputs": [
    {
     "data": {
      "text/plain": [
       "0.6454504815883391"
      ]
     },
     "execution_count": 53,
     "metadata": {},
     "output_type": "execute_result"
    }
   ],
   "source": [
    "train_score = alg1.score(x_train_reshape, y_train)\n",
    "train_score"
   ]
  },
  {
   "cell_type": "code",
   "execution_count": 54,
   "id": "23e4b138",
   "metadata": {},
   "outputs": [
    {
     "data": {
      "text/plain": [
       "0.438073496767603"
      ]
     },
     "execution_count": 54,
     "metadata": {},
     "output_type": "execute_result"
    }
   ],
   "source": [
    "testing_score = alg1.score(x_test_reshape, y_test)\n",
    "testing_score"
   ]
  },
  {
   "cell_type": "code",
   "execution_count": 55,
   "id": "31d1b8fd",
   "metadata": {},
   "outputs": [
    {
     "data": {
      "text/plain": [
       "array([1.35301299])"
      ]
     },
     "execution_count": 55,
     "metadata": {},
     "output_type": "execute_result"
    }
   ],
   "source": [
    "alg1.coef_"
   ]
  },
  {
   "cell_type": "code",
   "execution_count": 56,
   "id": "923a3b9d",
   "metadata": {},
   "outputs": [
    {
     "data": {
      "text/plain": [
       "6.481604578729701"
      ]
     },
     "execution_count": 56,
     "metadata": {},
     "output_type": "execute_result"
    }
   ],
   "source": [
    "alg1.intercept_"
   ]
  },
  {
   "cell_type": "code",
   "execution_count": 57,
   "id": "8af2eca7",
   "metadata": {},
   "outputs": [],
   "source": [
    "def fit(x_train, y_train):\n",
    "    num = (x_train * y_train).mean() - x_train.mean() * y_train.mean()\n",
    "    den = ((x_train) ** 2).mean() - (x_train.mean()) ** 2\n",
    "    \n",
    "    m = num / den\n",
    "    c = y_train.mean() - m * x_train.mean()\n",
    "    \n",
    "    return m, c"
   ]
  },
  {
   "cell_type": "code",
   "execution_count": 58,
   "id": "0ee86930",
   "metadata": {},
   "outputs": [],
   "source": [
    "def predict(x, m, c):\n",
    "    return m * x + c"
   ]
  },
  {
   "cell_type": "code",
   "execution_count": 59,
   "id": "8073bce1",
   "metadata": {},
   "outputs": [],
   "source": [
    "def score(y_truth, y_pred):\n",
    "    u = ((y_truth - y_pred) ** 2).sum()\n",
    "    v = ((y_truth - y_truth.mean()) ** 2).sum()\n",
    "    \n",
    "    return 1 - u/v"
   ]
  },
  {
   "cell_type": "code",
   "execution_count": 60,
   "id": "de38af29",
   "metadata": {},
   "outputs": [],
   "source": [
    "def cost(y, x, m, c):\n",
    "    return ((y - m * x - c) ** 2).mean()"
   ]
  },
  {
   "cell_type": "code",
   "execution_count": 61,
   "id": "5a44d7ed",
   "metadata": {},
   "outputs": [],
   "source": [
    "m, c = fit(x_train, y_train)"
   ]
  },
  {
   "cell_type": "code",
   "execution_count": 62,
   "id": "fe58af00",
   "metadata": {},
   "outputs": [
    {
     "data": {
      "text/plain": [
       "(1.3530129888064268, 6.481604578730057)"
      ]
     },
     "execution_count": 62,
     "metadata": {},
     "output_type": "execute_result"
    }
   ],
   "source": [
    "m, c"
   ]
  },
  {
   "cell_type": "code",
   "execution_count": 63,
   "id": "42bf6db8",
   "metadata": {},
   "outputs": [
    {
     "data": {
      "text/plain": [
       "0.43807349676760343"
      ]
     },
     "execution_count": 63,
     "metadata": {},
     "output_type": "execute_result"
    }
   ],
   "source": [
    "# testing data\n",
    "y_test_pred = predict(x_test, m, c)\n",
    "cal_test_score = score(y_test, y_test_pred)\n",
    "cal_test_score"
   ]
  },
  {
   "cell_type": "code",
   "execution_count": 64,
   "id": "bdc59b51",
   "metadata": {},
   "outputs": [
    {
     "data": {
      "text/plain": [
       "0.6454504815883391"
      ]
     },
     "execution_count": 64,
     "metadata": {},
     "output_type": "execute_result"
    }
   ],
   "source": [
    "# traing data\n",
    "y_train_pred = predict(x_train, m, c)\n",
    "cal_train_score = score(y_train, y_train_pred)\n",
    "cal_train_score"
   ]
  },
  {
   "cell_type": "code",
   "execution_count": 68,
   "id": "079accf3",
   "metadata": {},
   "outputs": [
    {
     "data": {
      "text/plain": [
       "110.34548507080449"
      ]
     },
     "execution_count": 68,
     "metadata": {},
     "output_type": "execute_result"
    }
   ],
   "source": [
    "calc_cost = cost(y, x, m, c)\n",
    "calc_cost"
   ]
  },
  {
   "cell_type": "markdown",
   "id": "5d86d226",
   "metadata": {},
   "source": [
    "## Gradient descent"
   ]
  },
  {
   "cell_type": "code",
   "execution_count": 69,
   "id": "1f17db1f",
   "metadata": {},
   "outputs": [],
   "source": [
    "def step_gradient(points, learning_rate, m, c):\n",
    "    m_slope = 0\n",
    "    c_slope = 0\n",
    "    M = len(points)\n",
    "    \n",
    "    for i in range(M):\n",
    "        x = points[i, 0]\n",
    "        y = points[i, 1]\n",
    "        \n",
    "        m_slope += (-2/M) * ((y - m * x - c) * x)\n",
    "        c_slope += (-2/M) * ((y - m * x - c))\n",
    "    \n",
    "    m_new = m - learning_rate * m_slope\n",
    "    c_new = c - learning_rate * c_slope\n",
    "    \n",
    "    return m_new, c_new"
   ]
  },
  {
   "cell_type": "code",
   "execution_count": 70,
   "id": "28ed8621",
   "metadata": {},
   "outputs": [],
   "source": [
    "def cost(points, m, c):\n",
    "    total_cost = 0\n",
    "    M = len(points)\n",
    "    \n",
    "    for i in range(M):\n",
    "        x = points[i, 0]\n",
    "        y = points[i, 1]\n",
    "        \n",
    "        total_cost += (1/M) * ((y - m * x - c) ** 2)\n",
    "        \n",
    "    return total_cost"
   ]
  },
  {
   "cell_type": "code",
   "execution_count": 71,
   "id": "1d703961",
   "metadata": {},
   "outputs": [],
   "source": [
    "def gd(points, learning_rate, num_iterations):\n",
    "    m = 0\n",
    "    c = 0\n",
    "    \n",
    "    for i in range(num_iterations):\n",
    "        m, c = step_gradient(points, learning_rate, m, c)\n",
    "        print(f\"This is the {i + 1} th iteration and the corresponding cost is {cost(points, m, c)}\")\n",
    "        \n",
    "    return m, c"
   ]
  },
  {
   "cell_type": "code",
   "execution_count": 72,
   "id": "4359c085",
   "metadata": {},
   "outputs": [],
   "source": [
    "def run():\n",
    "    data = np.loadtxt('/Users/shivampruthi/Downloads/0000000000000836/data.csv', delimiter = ',')\n",
    "    learning_rate = 0.0001\n",
    "    num_iterations = 20\n",
    "    \n",
    "    m, c = gd(data, learning_rate, num_iterations)\n",
    "    print(m, c)"
   ]
  },
  {
   "cell_type": "code",
   "execution_count": 73,
   "id": "ac0c4ec3",
   "metadata": {},
   "outputs": [
    {
     "name": "stdout",
     "output_type": "stream",
     "text": [
      "This is the 1 th iteration and the corresponding cost is 1484.586557408649\n",
      "This is the 2 th iteration and the corresponding cost is 457.8542575737672\n",
      "This is the 3 th iteration and the corresponding cost is 199.5099857255389\n",
      "This is the 4 th iteration and the corresponding cost is 134.50591058200533\n",
      "This is the 5 th iteration and the corresponding cost is 118.1496934223995\n",
      "This is the 6 th iteration and the corresponding cost is 114.0341490603815\n",
      "This is the 7 th iteration and the corresponding cost is 112.99857731713657\n",
      "This is the 8 th iteration and the corresponding cost is 112.73798187568467\n",
      "This is the 9 th iteration and the corresponding cost is 112.6723843590911\n",
      "This is the 10 th iteration and the corresponding cost is 112.65585181499745\n",
      "This is the 11 th iteration and the corresponding cost is 112.65166489759581\n",
      "This is the 12 th iteration and the corresponding cost is 112.6505843615011\n",
      "This is the 13 th iteration and the corresponding cost is 112.65028544701502\n",
      "This is the 14 th iteration and the corresponding cost is 112.65018320293967\n",
      "This is the 15 th iteration and the corresponding cost is 112.650130445072\n",
      "This is the 16 th iteration and the corresponding cost is 112.65009013922888\n",
      "This is the 17 th iteration and the corresponding cost is 112.6500529669463\n",
      "This is the 18 th iteration and the corresponding cost is 112.65001658353178\n",
      "This is the 19 th iteration and the corresponding cost is 112.64998039901862\n",
      "This is the 20 th iteration and the corresponding cost is 112.64994426496072\n",
      "1.4788956622797287 0.0302695172877759\n"
     ]
    }
   ],
   "source": [
    "run()"
   ]
  },
  {
   "cell_type": "code",
   "execution_count": 75,
   "id": "4bd43655",
   "metadata": {},
   "outputs": [],
   "source": [
    "least_square_m = m\n",
    "least_square_c = c\n",
    "least_square_cost = calc_cost\n",
    "inbuilt_model_m = alg1.coef_\n",
    "inbuilt_model_c = alg1.intercept_\n",
    "gd_m = 1.4788956622797287\n",
    "gd_c = 0.0302695172877759\n",
    "gd_cost = 112.64994426496072"
   ]
  },
  {
   "cell_type": "code",
   "execution_count": 76,
   "id": "d5c431f3",
   "metadata": {},
   "outputs": [
    {
     "name": "stdout",
     "output_type": "stream",
     "text": [
      "The least sqaure m is 1.3530129888064268\n",
      "The least square c is 6.481604578730057\n",
      "The least square cost is 110.34548507080449\n",
      "The inbuilt model m is [1.35301299]\n",
      "The inbuilt model c is 6.481604578729701\n",
      "The gradient descent m is 1.4788956622797287\n",
      "The gradient descent c is 0.0302695172877759\n",
      "The gradient descent cost is 112.64994426496072\n"
     ]
    }
   ],
   "source": [
    "print(f\"The least sqaure m is {least_square_m}\")\n",
    "print(f\"The least square c is {least_square_c}\")\n",
    "print(f\"The least square cost is {least_square_cost}\")\n",
    "print(f\"The inbuilt model m is {inbuilt_model_m}\")\n",
    "print(f\"The inbuilt model c is {inbuilt_model_c}\")\n",
    "print(f\"The gradient descent m is {gd_m}\")\n",
    "print(f\"The gradient descent c is {gd_c}\")\n",
    "print(f\"The gradient descent cost is {gd_cost}\")"
   ]
  }
 ],
 "metadata": {
  "kernelspec": {
   "display_name": "Python 3 (ipykernel)",
   "language": "python",
   "name": "python3"
  },
  "language_info": {
   "codemirror_mode": {
    "name": "ipython",
    "version": 3
   },
   "file_extension": ".py",
   "mimetype": "text/x-python",
   "name": "python",
   "nbconvert_exporter": "python",
   "pygments_lexer": "ipython3",
   "version": "3.11.4"
  }
 },
 "nbformat": 4,
 "nbformat_minor": 5
}
